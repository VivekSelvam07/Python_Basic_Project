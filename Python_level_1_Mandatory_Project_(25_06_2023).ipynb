{
  "nbformat": 4,
  "nbformat_minor": 0,
  "metadata": {
    "colab": {
      "provenance": []
    },
    "kernelspec": {
      "name": "python3",
      "display_name": "Python 3"
    },
    "language_info": {
      "name": "python"
    }
  },
  "cells": [
    {
      "cell_type": "markdown",
      "source": [
        "MANDATORY PROJECT - PYTHON LEVEL 1"
      ],
      "metadata": {
        "id": "F1gDP3e6SMnr"
      }
    },
    {
      "cell_type": "markdown",
      "source": [
        "Q1: You are working in a bank, and you have been given two lists of the employees who worked in 2021. Employees’ names in list 1 are Ramesh, Suresh, Mahesh, Ali, Jacob, and Saritha. List 2 contains the names of Ali, Mukesh, Mahesh, Jacob, Sai, and Sarita. Please write a program that helps to identify people who are common in both lists. Please do not use any in-built function."
      ],
      "metadata": {
        "id": "NWfO3gcFSAtZ"
      }
    },
    {
      "cell_type": "code",
      "execution_count": 1,
      "metadata": {
        "colab": {
          "base_uri": "https://localhost:8080/"
        },
        "id": "rYAIBRZrRUJO",
        "outputId": "ce301525-82ec-46ea-ebf7-6458fe289174"
      },
      "outputs": [
        {
          "output_type": "stream",
          "name": "stdout",
          "text": [
            "People common in both lists : ['Mahesh', 'Ali', 'Jacob']\n"
          ]
        }
      ],
      "source": [
        "employee_list1 = ['Ramesh', 'Suresh', 'Mahesh', 'Ali', 'Jacob', 'Saritha']\n",
        "employee_list2 = ['Ali', 'Mukesh', 'Mahesh', 'Jacob', 'Sai', 'Sarita']\n",
        "common_employee_list = []\n",
        "\n",
        "for i in employee_list1:\n",
        "  for n in employee_list2:\n",
        "    if i == n:\n",
        "      common_employee_list.append(i)\n",
        "\n",
        "print(f'People common in both lists : {common_employee_list}')"
      ]
    },
    {
      "cell_type": "markdown",
      "source": [
        "Q2: While entering data, someone entered a few names as a common string “Ramesh Suresh Mohit”. Please write a program which separates all the names and converts them into a list. Once converted into a list, please write a program that adds their age.\n",
        "\n",
        "\n",
        "Ramesh:  25\n",
        "\n",
        "Suresh: 22\n",
        "\n",
        "Mohit: 26"
      ],
      "metadata": {
        "id": "Hj9FLVi4UGob"
      }
    },
    {
      "cell_type": "code",
      "source": [
        "string = 'Ramesh Suresh Mohit'\n",
        "split_string = string.split()\n",
        "print(split_string)\n",
        "print(type(split_string))\n",
        "ages = [25,22,26]\n",
        "\n",
        "string_age = dict(zip(split_string,ages))\n",
        "print(string_age)"
      ],
      "metadata": {
        "colab": {
          "base_uri": "https://localhost:8080/"
        },
        "id": "ktjvCMPUULby",
        "outputId": "3b3285dd-84fb-49c1-ef88-0beff84dd8d9"
      },
      "execution_count": 2,
      "outputs": [
        {
          "output_type": "stream",
          "name": "stdout",
          "text": [
            "['Ramesh', 'Suresh', 'Mohit']\n",
            "<class 'list'>\n",
            "{'Ramesh': 25, 'Suresh': 22, 'Mohit': 26}\n"
          ]
        }
      ]
    },
    {
      "cell_type": "markdown",
      "source": [
        "Q3: You are working in a medical store. A patient came to your medical store and asked to buy 2 strips of paracetamol, 3 strips of azithromycin, and 5 strips of Vitamin C. One strip of paracetamol costs Rs 35, one strip of azithromycin costs Rs 49, and one strip of vitamin c costs Rs. 33. Patient gave you Rs 2000. Please tell us what is the total cost of each medicine, the total cost of all medicine, and how much money you refunded to the patient."
      ],
      "metadata": {
        "id": "L2a0DhUVVh73"
      }
    },
    {
      "cell_type": "code",
      "source": [
        "tablet_cost = {'paracetamol' : 35, 'azithromycin' : 49, 'vitamin c' : 33}\n",
        "tablet_purchased = {'paracetamol' : int(input('No. of paracetamol strips required : ')),\n",
        "                    'azithromycin' : int(input('No. of azithromycin strips required : ')),\n",
        "                    'vitamin c' : int(input('No. of vitamin c strips required : '))}\n",
        "bill = 0\n",
        "\n",
        "for i in tablet_purchased:\n",
        "  a = tablet_purchased[i]\n",
        "  b = tablet_cost[i]\n",
        "  print(i,b,a,a*b)\n",
        "  bill = bill + a*b\n",
        "print(f'Total bill amount : {bill}')\n",
        "\n",
        "amount_collected = int(input('Amount collected from patient : '))\n",
        "refund_amount = amount_collected - bill\n",
        "print(f'Amount refunded to the patient: {refund_amount}')"
      ],
      "metadata": {
        "colab": {
          "base_uri": "https://localhost:8080/"
        },
        "id": "_WHlYIDHViku",
        "outputId": "b25dfc4b-d048-4898-d758-22c3d83882b0"
      },
      "execution_count": 3,
      "outputs": [
        {
          "output_type": "stream",
          "name": "stdout",
          "text": [
            "No. of paracetamol strips required : 2\n",
            "No. of azithromycin strips required : 3\n",
            "No. of vitamin c strips required : 5\n",
            "paracetamol 35 2 70\n",
            "azithromycin 49 3 147\n",
            "vitamin c 33 5 165\n",
            "Total bill amount : 382\n",
            "Amount collected from patient : 2000\n",
            "Amount refunded to the patient: 1618\n"
          ]
        }
      ]
    },
    {
      "cell_type": "markdown",
      "source": [
        "Q4: Accept a sentence as input and find the number of vowels in it. Assume that the sentence has no punctuation marks. For example, I am learning python contains 6 vowels. This function should be applicable for all other different sentences."
      ],
      "metadata": {
        "id": "WkbTwWYTV59l"
      }
    },
    {
      "cell_type": "code",
      "source": [
        "sentence = input('Enter a sentence : ')\n",
        "vowels = ('a','e','i','o','u')\n",
        "count = 0\n",
        "\n",
        "for i in sentence.lower():\n",
        "  for n in vowels:\n",
        "    if i == n:\n",
        "      count += 1\n",
        "\n",
        "print(f'No. of vowels in the sentence : {count}')"
      ],
      "metadata": {
        "colab": {
          "base_uri": "https://localhost:8080/"
        },
        "id": "PIT9E_U4V6Hm",
        "outputId": "183bbde4-d91e-4031-a872-46291811fa99"
      },
      "execution_count": 4,
      "outputs": [
        {
          "output_type": "stream",
          "name": "stdout",
          "text": [
            "Enter a sentence : I am learning python\n",
            "No. of vowels in the sentence : 6\n"
          ]
        }
      ]
    },
    {
      "cell_type": "markdown",
      "source": [
        "Q5: You have been appointed by the election commission to create a website. Your first task is to work on a program which tells candidates if they are eligible for voting or not. If they are eligible, your output should be ‘Congrats! You are eligible’; otherwise, it should tell that you have to return after X number of years. The eligibility criteria for voting is 18 years.\n",
        "\n",
        "\n",
        "For example, If someone is 18 or above, your output should be ‘Congrats! You are eligible’. If someone’s age is 15 years, it should print output as ‘return after 3 years’."
      ],
      "metadata": {
        "id": "J4s_SILfWdLf"
      }
    },
    {
      "cell_type": "code",
      "source": [
        "age = int(input('Enter your age : '))\n",
        "age_dif = 18 - age\n",
        "\n",
        "if age >= 18:\n",
        "  print('Congrats! You are eligible')\n",
        "else:\n",
        "  print(f'Return after {age_dif} years')"
      ],
      "metadata": {
        "colab": {
          "base_uri": "https://localhost:8080/"
        },
        "id": "qhvUR_FjWjMF",
        "outputId": "1001c4d6-f0d1-487a-843c-f201bd137fbd"
      },
      "execution_count": 6,
      "outputs": [
        {
          "output_type": "stream",
          "name": "stdout",
          "text": [
            "Enter your age : 15\n",
            "Return after 3 years\n"
          ]
        }
      ]
    },
    {
      "cell_type": "markdown",
      "source": [
        "Q6: Given a list of integers, find the cumulative sum of the elements of the list and store them in another list.\n",
        "\n",
        "\n",
        "A = [1, 2, 3, 4, 5]\n",
        "\n",
        "\n",
        "Output:\n",
        "\n",
        "[1, 3, 6, 10, 15]"
      ],
      "metadata": {
        "id": "MoYsTWyiW7zm"
      }
    },
    {
      "cell_type": "code",
      "source": [
        "A = [1,2,3,4,5]\n",
        "sum = 0\n",
        "output = []\n",
        "\n",
        "for i in A:\n",
        "  sum += i\n",
        "  output.append(sum)\n",
        "\n",
        "print(output)"
      ],
      "metadata": {
        "colab": {
          "base_uri": "https://localhost:8080/"
        },
        "id": "sSxjhQpQW7_C",
        "outputId": "5d42ab64-c4ca-4df8-f028-fb1c4a2620c5"
      },
      "execution_count": 7,
      "outputs": [
        {
          "output_type": "stream",
          "name": "stdout",
          "text": [
            "[1, 3, 6, 10, 15]\n"
          ]
        }
      ]
    },
    {
      "cell_type": "markdown",
      "source": [
        "Q7:\n",
        "\n",
        "WAP to encode a message entered by user as per below conditions:\n",
        "\n",
        "\n",
        "\n",
        "for every word in the sentence,\n",
        "\n",
        "1. If the word starts with a vowel, encode it as first and last letter of the word.\n",
        "\n",
        "2. If the word starts with a consonant, remove all vowels from it.\n",
        "\n",
        "\n",
        "\n",
        "Ensure the case insensitive comparisions/checks are performed.\n",
        "\n",
        "\n",
        "\n",
        "Please enter your text:The quick brown fox used to sleep inside this box\n",
        "\n",
        "Encoded Msg: Th qck brwn fx ud t slp ie ths bx"
      ],
      "metadata": {
        "id": "9Qp3f4PYXBqw"
      }
    },
    {
      "cell_type": "code",
      "source": [
        "message = input('Please enter your text: ')\n",
        "vowels = 'AEIOUaeiou'\n",
        "split_message = message.split()\n",
        "encoded_message = ''\n",
        "\n",
        "for i in split_message:\n",
        "  if i[0] in vowels:\n",
        "    encoded_message = encoded_message + i[0] + i[-1] +' '\n",
        "  else:\n",
        "    encoded_words = ''\n",
        "    for n in i:\n",
        "      if n not in vowels:\n",
        "        encoded_words = encoded_words + n\n",
        "    encoded_message = encoded_message + encoded_words + ' '\n",
        "\n",
        "print(f'Encoded Msg: {encoded_message}')"
      ],
      "metadata": {
        "colab": {
          "base_uri": "https://localhost:8080/"
        },
        "id": "YKG9Yd08XB4D",
        "outputId": "af01dd87-ca6f-4f90-c891-f97ec59e84f7"
      },
      "execution_count": 8,
      "outputs": [
        {
          "output_type": "stream",
          "name": "stdout",
          "text": [
            "Please enter your text: The quick brown fox used to sleep inside this box\n",
            "Encoded Msg: Th qck brwn fx ud t slp ie ths bx \n"
          ]
        }
      ]
    },
    {
      "cell_type": "markdown",
      "source": [
        "Q8:\n",
        "\n",
        "Write a program to implement run length encoding of a string\n",
        "\n",
        "\n",
        "\n",
        "RLE:Consecutive repetition of a character has to be replaced with the count of occurances and the character.\n",
        "\n",
        "\n",
        "\n",
        "Enter your string :aabbbccdddae\n",
        "\n",
        "Encoded: 2a3b2c3d1a1e"
      ],
      "metadata": {
        "id": "PWTM0rzvXRd2"
      }
    },
    {
      "cell_type": "code",
      "source": [
        "string = input('Enter your string : ')\n",
        "encoded_string = ''\n",
        "count = 1\n",
        "\n",
        "for i in range(0,len(string)-1):\n",
        "  if string[i] == string[i+1]:\n",
        "    count += 1\n",
        "  else:\n",
        "    encoded_string = encoded_string + str(count) + string[i]\n",
        "    count = 1\n",
        "\n",
        "encoded_string = encoded_string + str(count) + string[-1]\n",
        "\n",
        "print(f'Encoded : {encoded_string}')"
      ],
      "metadata": {
        "colab": {
          "base_uri": "https://localhost:8080/"
        },
        "id": "DxhxhOl_XRop",
        "outputId": "cb586284-e92e-4d02-e8e2-7ffe9979561b"
      },
      "execution_count": 9,
      "outputs": [
        {
          "output_type": "stream",
          "name": "stdout",
          "text": [
            "Enter your string : aabbbccdddae\n",
            "Encoded : 2a3b2c3d1a1e\n"
          ]
        }
      ]
    }
  ]
}